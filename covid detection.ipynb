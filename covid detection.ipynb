{
 "cells": [
  {
   "cell_type": "markdown",
   "id": "410e2704",
   "metadata": {},
   "source": [
    " WE ASSUME THAT WE SHOULD DO THE CLASSIFICATION BASED ON THE FINE GRAINED MODELS"
   ]
  },
  {
   "cell_type": "code",
   "execution_count": 1,
   "id": "570882c2",
   "metadata": {},
   "outputs": [],
   "source": [
    "import pandas as pd\n",
    "from keras.preprocessing.image import ImageDataGenerator"
   ]
  },
  {
   "cell_type": "code",
   "execution_count": 2,
   "id": "cf8b1cc1",
   "metadata": {},
   "outputs": [],
   "source": [
    "import os,shutil\n",
    "folders=os.listdir(\"Images\")\n"
   ]
  },
  {
   "cell_type": "code",
   "execution_count": 3,
   "id": "cbadac61",
   "metadata": {},
   "outputs": [],
   "source": [
    "if not os.path.isdir(\"val_images\"):\n",
    "    os.mkdir(\"val_images\")\n",
    "classes=['COVID','Normal']"
   ]
  },
  {
   "cell_type": "code",
   "execution_count": 4,
   "id": "ebe0daf2",
   "metadata": {},
   "outputs": [
    {
     "name": "stdout",
     "output_type": "stream",
     "text": [
      "Val_images/COVID\n",
      "Val_images/Normal\n"
     ]
    }
   ],
   "source": [
    "for c in classes:\n",
    "    p=os.path.join(\"Val_images/\",c)\n",
    "    print(p)\n",
    "    if not os.path.isdir(p):\n",
    "        os.mkdir(p)"
   ]
  },
  {
   "cell_type": "code",
   "execution_count": 5,
   "id": "73e7c80c",
   "metadata": {},
   "outputs": [],
   "source": [
    "SPLIT=0.9\n",
    "for f in os.listdir(\"Images\"):\n",
    "    path=\"Images/\"+f\n",
    "    imgs=os.listdir(path)\n",
    "    \n",
    "    split_size=int(SPLIT*len(imgs))\n",
    "    files_to_move=imgs[split_size:]\n",
    "    #print(len(files_to_move))\n",
    "    \n",
    "    for img_f in files_to_move:\n",
    "        src=os.path.join(path,img_f)\n",
    "        dest=os.path.join(\"Val_images/\"+f,img_f)\n",
    "        #shutil.move(src,dest)\n",
    "        #print(src)\n",
    "        #print(dest)"
   ]
  },
  {
   "cell_type": "code",
   "execution_count": 6,
   "id": "664721a0",
   "metadata": {},
   "outputs": [],
   "source": [
    "train_path='Images'\n",
    "val_path='Val_images'"
   ]
  },
  {
   "cell_type": "code",
   "execution_count": 7,
   "id": "765bf45b",
   "metadata": {},
   "outputs": [],
   "source": [
    "import numpy as np\n",
    "import matplotlib.pyplot as plt\n",
    "import keras\n",
    "from keras.layers import *\n",
    "from keras.models import *\n",
    "from keras.preprocessing import image"
   ]
  },
  {
   "cell_type": "code",
   "execution_count": 8,
   "id": "d1e87085",
   "metadata": {},
   "outputs": [],
   "source": [
    "#WE will be using a sequential CNN Layers"
   ]
  },
  {
   "cell_type": "code",
   "execution_count": 9,
   "id": "5aa122fd",
   "metadata": {},
   "outputs": [
    {
     "name": "stdout",
     "output_type": "stream",
     "text": [
      "Model: \"sequential\"\n",
      "_________________________________________________________________\n",
      " Layer (type)                Output Shape              Param #   \n",
      "=================================================================\n",
      " conv2d (Conv2D)             (None, 222, 222, 32)      896       \n",
      "                                                                 \n",
      " conv2d_1 (Conv2D)           (None, 220, 220, 64)      18496     \n",
      "                                                                 \n",
      " max_pooling2d (MaxPooling2D  (None, 110, 110, 64)     0         \n",
      " )                                                               \n",
      "                                                                 \n",
      " dropout (Dropout)           (None, 110, 110, 64)      0         \n",
      "                                                                 \n",
      " conv2d_2 (Conv2D)           (None, 108, 108, 68)      39236     \n",
      "                                                                 \n",
      " max_pooling2d_1 (MaxPooling  (None, 54, 54, 68)       0         \n",
      " 2D)                                                             \n",
      "                                                                 \n",
      " dropout_1 (Dropout)         (None, 54, 54, 68)        0         \n",
      "                                                                 \n",
      " conv2d_3 (Conv2D)           (None, 52, 52, 128)       78464     \n",
      "                                                                 \n",
      " max_pooling2d_2 (MaxPooling  (None, 26, 26, 128)      0         \n",
      " 2D)                                                             \n",
      "                                                                 \n",
      " dropout_2 (Dropout)         (None, 26, 26, 128)       0         \n",
      "                                                                 \n",
      " flatten (Flatten)           (None, 86528)             0         \n",
      "                                                                 \n",
      " dense (Dense)               (None, 64)                5537856   \n",
      "                                                                 \n",
      " dropout_3 (Dropout)         (None, 64)                0         \n",
      "                                                                 \n",
      " dense_1 (Dense)             (None, 2)                 130       \n",
      "                                                                 \n",
      "=================================================================\n",
      "Total params: 5,675,078\n",
      "Trainable params: 5,675,078\n",
      "Non-trainable params: 0\n",
      "_________________________________________________________________\n"
     ]
    }
   ],
   "source": [
    "model=Sequential()\n",
    "model.add(Convolution2D(32,kernel_size=(3,3),activation='relu',input_shape=(224,224,3)))\n",
    "model.add(Convolution2D(64,(3,3),activation='relu'))\n",
    "model.add(MaxPooling2D(2,2)) \n",
    "model.add(Dropout(0.25)) \n",
    "\n",
    "model.add(Convolution2D(68,(3,3),activation='relu'))\n",
    "model.add(MaxPooling2D(2,2))\n",
    "model.add(Dropout(0.25)) \n",
    "\n",
    "model.add(Convolution2D(128,(3,3),activation='relu'))\n",
    "model.add(MaxPooling2D(2,2))\n",
    "model.add(Dropout(0.25))\n",
    "\n",
    "model.add(Flatten())\n",
    "model.add(Dense(64,activation=\"relu\"))\n",
    "model.add(Dropout(0.5))\n",
    "model.add(Dense(2, activation = 'softmax'))\n",
    "model.summary()"
   ]
  },
  {
   "cell_type": "code",
   "execution_count": 10,
   "id": "085a8acb",
   "metadata": {},
   "outputs": [],
   "source": [
    "model.compile(loss=\"categorical_crossentropy\",optimizer=\"adam\",metrics=[\"accuracy\"])"
   ]
  },
  {
   "cell_type": "code",
   "execution_count": 11,
   "id": "2cd8e654",
   "metadata": {},
   "outputs": [
    {
     "name": "stdout",
     "output_type": "stream",
     "text": [
      "Found 12426 images belonging to 2 classes.\n"
     ]
    }
   ],
   "source": [
    "train_gen=ImageDataGenerator(rescale=1.0/255,\n",
    "                            rotation_range=40,\n",
    "                             width_shift_range=0.2,\n",
    "                             height_shift_range=0.2,\n",
    "                             shear_range=0.2,\n",
    "                             zoom_range=0.3,\n",
    "                             horizontal_flip=True\n",
    "                            )\n",
    "test_gen=ImageDataGenerator(rescale=1.0/255)\n",
    "\n",
    "train_generator=train_gen.flow_from_directory(\n",
    "\"Images/\",target_size=(224,224),batch_size=32,class_mode='categorical')"
   ]
  },
  {
   "cell_type": "code",
   "execution_count": 12,
   "id": "a8718d09",
   "metadata": {
    "scrolled": true
   },
   "outputs": [
    {
     "name": "stdout",
     "output_type": "stream",
     "text": [
      "Found 1382 images belonging to 2 classes.\n"
     ]
    }
   ],
   "source": [
    "val_gen=ImageDataGenerator(rescale=1.0/255)\n",
    "#Data normalisation is done\n",
    "val_generator=val_gen.flow_from_directory(\n",
    "\"Val_images/\",target_size=(224,224),batch_size=32,class_mode='categorical')"
   ]
  },
  {
   "cell_type": "code",
   "execution_count": 13,
   "id": "6ed20b60",
   "metadata": {},
   "outputs": [
    {
     "name": "stderr",
     "output_type": "stream",
     "text": [
      "C:\\Users\\91893\\AppData\\Local\\Temp\\ipykernel_6028\\3499145104.py:1: UserWarning: `Model.fit_generator` is deprecated and will be removed in a future version. Please use `Model.fit`, which supports generators.\n",
      "  hist=model.fit_generator(\n"
     ]
    },
    {
     "name": "stdout",
     "output_type": "stream",
     "text": [
      "Epoch 1/4\n",
      "8/8 [==============================] - 31s 4s/step - loss: 1.0913 - accuracy: 0.5117 - val_loss: 0.6402 - val_accuracy: 0.7500\n",
      "Epoch 2/4\n",
      "8/8 [==============================] - 27s 3s/step - loss: 0.5940 - accuracy: 0.7461 - val_loss: 0.6653 - val_accuracy: 0.6562\n",
      "Epoch 3/4\n",
      "8/8 [==============================] - 26s 3s/step - loss: 0.6490 - accuracy: 0.7031 - val_loss: 0.6160 - val_accuracy: 0.7500\n",
      "Epoch 4/4\n",
      "8/8 [==============================] - 29s 4s/step - loss: 0.6505 - accuracy: 0.6875 - val_loss: 0.6492 - val_accuracy: 0.7422\n"
     ]
    }
   ],
   "source": [
    "hist=model.fit_generator(\n",
    "train_generator,\n",
    "epochs=4,\n",
    "steps_per_epoch=8,\n",
    "validation_data=val_generator,\n",
    "validation_steps=4\n",
    ")\n",
    "#target size in "
   ]
  },
  {
   "cell_type": "code",
   "execution_count": 14,
   "id": "17055040",
   "metadata": {},
   "outputs": [],
   "source": [
    "acc=hist.history['accuracy']\n",
    "val_acc=hist.history['val_accuracy']\n",
    "loss=hist.history['loss']\n",
    "val_loss=hist.history['val_loss']"
   ]
  },
  {
   "cell_type": "code",
   "execution_count": 15,
   "id": "31429961",
   "metadata": {},
   "outputs": [
    {
     "data": {
      "image/png": "[encoded data removed]",
      "text/plain": [
       "<Figure size 432x288 with 1 Axes>"
      ]
     },
     "metadata": {
      "needs_background": "light"
     },
     "output_type": "display_data"
    },
    {
     "data": {
      "image/png": "[encoded data removed]",
      "text/plain": [
       "<Figure size 432x288 with 1 Axes>"
      ]
     },
     "metadata": {
      "needs_background": "light"
     },
     "output_type": "display_data"
    }
   ],
   "source": [
    "plt.figure(0)\n",
    "plt.plot(loss,'g')\n",
    "plt.plot(val_loss,'b')\n",
    "plt.show()\n",
    "\n",
    "plt.plot(acc,'r')\n",
    "plt.plot(val_acc,'black')\n",
    "plt.show()"
   ]
  },
  {
   "cell_type": "code",
   "execution_count": 16,
   "id": "182d4ea0",
   "metadata": {},
   "outputs": [
    {
     "name": "stderr",
     "output_type": "stream",
     "text": [
      "C:\\Users\\91893\\AppData\\Local\\Temp\\ipykernel_6028\\326654268.py:1: UserWarning: `Model.evaluate_generator` is deprecated and will be removed in a future version. Please use `Model.evaluate`, which supports generators.\n",
      "  model.evaluate_generator(train_generator)\n"
     ]
    },
    {
     "data": {
      "text/plain": [
       "[0.6510733962059021, 0.738129734992981]"
      ]
     },
     "execution_count": 16,
     "metadata": {},
     "output_type": "execute_result"
    }
   ],
   "source": [
    "model.evaluate_generator(train_generator)"
   ]
  },
  {
   "cell_type": "code",
   "execution_count": 17,
   "id": "75d5ec51",
   "metadata": {},
   "outputs": [
    {
     "name": "stderr",
     "output_type": "stream",
     "text": [
      "C:\\Users\\91893\\AppData\\Local\\Temp\\ipykernel_6028\\359034756.py:1: UserWarning: `Model.evaluate_generator` is deprecated and will be removed in a future version. Please use `Model.evaluate`, which supports generators.\n",
      "  model.evaluate_generator(val_generator)\n"
     ]
    },
    {
     "data": {
      "text/plain": [
       "[0.649690568447113, 0.7380607724189758]"
      ]
     },
     "execution_count": 17,
     "metadata": {},
     "output_type": "execute_result"
    }
   ],
   "source": [
    "model.evaluate_generator(val_generator)"
   ]
  },
  {
   "cell_type": "markdown",
   "id": "2c2db6b9",
   "metadata": {},
   "source": [
    "#### "
   ]
  }
 ],
 "metadata": {
  "kernelspec": {
   "display_name": "Python 3 (ipykernel)",
   "language": "python",
   "name": "python3"
  },
  "language_info": {
   "codemirror_mode": {
    "name": "ipython",
    "version": 3
   },
   "file_extension": ".py",
   "mimetype": "text/x-python",
   "name": "python",
   "nbconvert_exporter": "python",
   "pygments_lexer": "ipython3",
   "version": "3.9.12"
  }
 },
 "nbformat": 4,
 "nbformat_minor": 5
}
